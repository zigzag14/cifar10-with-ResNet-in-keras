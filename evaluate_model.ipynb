{
 "cells": [
  {
   "cell_type": "markdown",
   "metadata": {},
   "source": [
    "# Keras implementation of ResNet by Jingchen Feng\n",
    "\n",
    "   ## Highlight:\n",
    "1. Image classification with ResNet on Cifar10 dataset with implementation in Keras\n",
    "2. Reproduce the result in the paper https://www.cv-foundation.org/openaccess/content_cvpr_2016/papers/He_Deep_Residual_Learning_CVPR_2016_paper.pdf\n",
    "3. Implement the ResNet with bottleNeck layers. \n",
    "4. Apply L2 regularization and data augmentation to fight overfitting\n",
    "5. build an ensemble model of a 20 layer ResNet, a 32 layer ResNet and a 29 layer ResNet with bottleNeck layers to reach a testing accuracy of 93.5%"
   ]
  },
  {
   "cell_type": "code",
   "execution_count": null,
   "metadata": {},
   "outputs": [],
   "source": [
    "# A summary of the results\n",
    "# Model type          #layers             #accuracy            #parameters        #L2 weight\n",
    "\n",
    "#  ResNet               20                  91.3%                 0.27M              3e-4\n",
    "#  ResNet               32                  92.1%                 0.46M              1e-4\n",
    "#  ResNet with                                    \n",
    "#  bottleneck layers    29                  91.7%                 0.49M              1e-4\n",
    "#  ensemble             NA                  93.5%                 "
   ]
  },
  {
   "cell_type": "code",
   "execution_count": null,
   "metadata": {},
   "outputs": [],
   "source": [
    "# This script is to show the result of trained indivisual models and the ensembled model\n",
    "# for model construction details, see Construct_model.ipynb\n",
    "import read_file\n",
    "from keras.models import Model, load_model\n",
    "import numpy as np\n",
    "\n",
    "# download cifar 10 at: https://www.cs.toronto.edu/~kriz/cifar.html\n",
    "img_path = './cifar-10-batches-py/'    #the file path of the training & testing data"
   ]
  },
  {
   "cell_type": "code",
   "execution_count": null,
   "metadata": {},
   "outputs": [],
   "source": [
    "# read the data with img_read function defined in read_file.py\n",
    "(x_train, y_train), (x_test, y_test) = read_file.img_read(img_path)    "
   ]
  },
  {
   "cell_type": "code",
   "execution_count": null,
   "metadata": {},
   "outputs": [],
   "source": [
    "model_l20= load_model('cifar10_resNet20.h5')\n",
    "\n",
    "model_l32= load_model('cifar10_resNet32.h5')   # read the pretrained model (32 layer ResNet)\n",
    "\n",
    "model_l20_bottleneck= load_model('cifar10_resNet20_bottleneck.h5')"
   ]
  },
  {
   "cell_type": "code",
   "execution_count": null,
   "metadata": {},
   "outputs": [],
   "source": [
    "model_l32.summary()       # see the network architecture"
   ]
  },
  {
   "cell_type": "code",
   "execution_count": null,
   "metadata": {},
   "outputs": [],
   "source": [
    "scores_l32 = model_l32.evaluate(x_test, y_test, verbose=1)\n",
    "print('Test loss:', scores_l32[0])\n",
    "print('Test accuracy:', scores_l32[1])"
   ]
  },
  {
   "cell_type": "code",
   "execution_count": null,
   "metadata": {},
   "outputs": [],
   "source": [
    "# this function is used to calculate the accuracy of the prediction. Note the dimension of y is (10000, 10)\n",
    "def categorical_accuracy(y_true, y_pred):\n",
    "    y_true_class= y_true.argmax(axis=-1)\n",
    "    y_pred_class= y_pred.argmax(axis=-1)\n",
    "    match= np.sum(y_true_class== y_pred_class)\n",
    "    return match/y_true.shape[0]"
   ]
  },
  {
   "cell_type": "code",
   "execution_count": null,
   "metadata": {},
   "outputs": [],
   "source": [
    "# I did not tune the weights, we can actually reach better testing accuracy by tuning weights with training data\n",
    "weights= [0.3333, 0.3333, 0.3333];  \n",
    "\n",
    "models=[model_l20, model_l20_bottleneck, model_l32]\n",
    "results= np.zeros(y_test.shape)\n",
    "\n",
    "for (idx, model) in enumerate(models):\n",
    "    pred= model.predict(x_test, verbose=1)\n",
    "    \n",
    "    results+= weights[idx]*pred\n",
    "    \n",
    "print('Test accuracy of ensembled model= '+ str(categorical_accuracy(y_test, results)))"
   ]
  }
 ],
 "metadata": {
  "kernelspec": {
   "display_name": "Python 3",
   "language": "python",
   "name": "python3"
  },
  "language_info": {
   "codemirror_mode": {
    "name": "ipython",
    "version": 3
   },
   "file_extension": ".py",
   "mimetype": "text/x-python",
   "name": "python",
   "nbconvert_exporter": "python",
   "pygments_lexer": "ipython3",
   "version": "3.6.4"
  }
 },
 "nbformat": 4,
 "nbformat_minor": 2
}
